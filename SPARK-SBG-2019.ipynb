{
 "cells": [
  {
   "cell_type": "code",
   "execution_count": 2,
   "metadata": {},
   "outputs": [
    {
     "data": {
      "text/html": [
       "<style>\n",
       "td {\n",
       "  font-size: 30px\n",
       "}\n",
       "</style>\n"
      ],
      "text/plain": [
       "<IPython.core.display.HTML object>"
      ]
     },
     "metadata": {},
     "output_type": "display_data"
    }
   ],
   "source": [
    "%%HTML\n",
    "<style>\n",
    "td {\n",
    "  font-size: 30px\n",
    "}\n",
    "</style>"
   ]
  },
  {
   "cell_type": "markdown",
   "metadata": {
    "slideshow": {
     "slide_type": "slide"
    }
   },
   "source": [
    "# Standards-based grading in Calculus I\n",
    "\n",
    "## (An attempt at formative assessment in a class of 200+)\n",
    "\n",
    "### Sean Fitzpatrick\n",
    "### Department of Mathematics and Computer Science\n",
    "\n",
    "### Spark Teaching Symposium\n",
    "### University of Lethbridge; April, 2019\n"
   ]
  },
  {
   "cell_type": "markdown",
   "metadata": {
    "slideshow": {
     "slide_type": "slide"
    }
   },
   "source": [
    "## Standards-based grading (SBG)\n",
    "\n",
    "*Standards-based grading* is assessment based on student mastery of a set of learning outcomes, or *standards*. \n",
    "\n",
    "- Mastery demonstrated through quizzes or in-class assignments.\n",
    "- Assessment is formative; students receive feedback on progress toward each standard.\n",
    "\n",
    "The approach has been in use throughout the world in both K-12 and higher education.\n",
    "\n",
    "In the USA, its use in college mathematics has been championed by [Kate Owens](https://blogs.ams.org/matheducation/2015/11/20/a-beginners-guide-to-standards-based-grading/), among others. "
   ]
  },
  {
   "cell_type": "markdown",
   "metadata": {
    "slideshow": {
     "slide_type": "fragment"
    }
   },
   "source": [
    "Typically, SBG practicioners are fluent in flipped classroom pedagogy, and they probably teach at small liberal arts colleges with class sizes in the 15-30 range."
   ]
  },
  {
   "cell_type": "markdown",
   "metadata": {
    "slideshow": {
     "slide_type": "slide"
    }
   },
   "source": [
    "## Grading scheme\n",
    "\n",
    "I learned about SBG from [Steven Clontz](https://clontz.org/), (University of Southern Alabama). He uses the following scheme:\n",
    "\n",
    "- M (Meets standard): Solution is correct, makes proper use of notation, and is clearly written in complete sentences.\n",
    "\n",
    "- R (Revisions needed): Minor errors, or inappropriate use of notation, or explanation needs improvement.\n",
    "\n",
    "- I (Issues with solution): Substantial errors in conceptual or procedural understanding, or the work is poorly written.\n",
    "\n",
    "- F (Failed to meet standard): Student did not attempt this outcome, or made an attempt that demonstrates no understanding of material."
   ]
  },
  {
   "cell_type": "markdown",
   "metadata": {
    "slideshow": {
     "slide_type": "slide"
    }
   },
   "source": [
    "### Grading, continued\n",
    "\n",
    "Students receive written feedback on their work, along with a \"score\". I assigned numerical scores: `M = 3, R = 2, I = 1, F = 0`\n",
    "\n",
    "- A student who gets a 3 (M) is done with that standard.\n",
    "- A student who gets a 2 (R) can submit revisions.\n",
    "- A student who gets a 1 (I) needs to do a *different* problem to reattempt the standard.\n",
    "\n",
    "_**Note**:_ students would receive feedback on *where* they made a mistake, and *what kind* of mistake they made, but we would not tell them exactly what was wrong, or how to correct it. It was up to the student to figure this out.\n"
   ]
  },
  {
   "cell_type": "markdown",
   "metadata": {
    "slideshow": {
     "slide_type": "slide"
    }
   },
   "source": [
    "## Standards for Math 1560, Calculus I\n",
    "\n",
    "In my course outline, I provided students with a [list of standards](http://www.cs.uleth.ca/~fitzpat/syllabus/Fall2018/Math1560/section-standards.html) they were responsible for mastering by the end of the course.\n",
    "\n",
    "Some people use SBG as their sole means of assessment in their courses. I did not. Our grading scheme was as follows:\n",
    "\n",
    "\n",
    "Assessment | Weight\n",
    "--- | ---:\n",
    "Tests (5) | 35\n",
    "Online homework | 10\n",
    "Standards | 20\n",
    "Final exam | 35\n",
    "\n",
    "Students had 30 minutes at the end of each class to work on problems associated to the list of standards."
   ]
  },
  {
   "cell_type": "markdown",
   "metadata": {
    "slideshow": {
     "slide_type": "slide"
    }
   },
   "source": [
    "## Challenges\n",
    "\n",
    "SBG might be great for small classes, but it doesn't scale well."
   ]
  },
  {
   "cell_type": "markdown",
   "metadata": {
    "slideshow": {
     "slide_type": "fragment"
    }
   },
   "source": [
    "<img src=\"http://www.cs.uleth.ca/~fitzpat/grading.jpg\" alt=\"Collected work for Math 1560\" width=\"200\"/>\n",
    "\n",
    "This represents the work that was submitted (and graded) by students in Math 1560, for **one semester**."
   ]
  },
  {
   "cell_type": "markdown",
   "metadata": {
    "slideshow": {
     "slide_type": "slide"
    }
   },
   "source": [
    "## Other challenges\n",
    "\n",
    "Surprisingly, the biggest one was convincing students that \"in-class exercises\" had to be done *in class*.\n",
    "\n",
    "- Students were given a list of problems each class, covering several different standards.\n",
    "- To keep on pace, a reasonable goal was to complete two problems in a class.\n",
    "- Many tried to copy down the list and take it for homework...\n",
    "- Since it was worth 20% of the overall grade I was probably too easy on them.\n",
    "- Unprepared students just copied instead of contributing.\n",
    "\n"
   ]
  },
  {
   "cell_type": "markdown",
   "metadata": {
    "slideshow": {
     "slide_type": "slide"
    }
   },
   "source": [
    "## Student feedback\n",
    "\n",
    "> Having to do standards was not helpful, most people just copied answers from friends and didn't learn.\n",
    "\n",
    "> It's hard to do a question on a concept you learned 5 minutes prior.\n",
    "\n",
    "> Let us do the problems outside of class\n",
    "\n",
    "> Many variations on \"do more lecture/examples\"\n",
    "\n",
    "> Professor did not actually teach... \"In-class standards\" (were) inconvenient."
   ]
  },
  {
   "cell_type": "code",
   "execution_count": null,
   "metadata": {},
   "outputs": [],
   "source": []
  }
 ],
 "metadata": {
  "celltoolbar": "Slideshow",
  "kernelspec": {
   "display_name": "Python 3",
   "language": "python",
   "name": "python3"
  },
  "language_info": {
   "codemirror_mode": {
    "name": "ipython",
    "version": 3
   },
   "file_extension": ".py",
   "mimetype": "text/x-python",
   "name": "python",
   "nbconvert_exporter": "python",
   "pygments_lexer": "ipython3",
   "version": "3.7.3"
  },
  "livereveal": {
   "footer": "<h3>S. Fitzpatrick</h3>",
   "header": "<h1>Spark 2019</h1>",
   "theme": "sky"
  }
 },
 "nbformat": 4,
 "nbformat_minor": 2
}
