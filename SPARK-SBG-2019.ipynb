{
 "cells": [
  {
   "cell_type": "code",
   "execution_count": null,
   "metadata": {
    "hidden": false,
    "slideshow": {
     "slide_type": "skip"
    }
   },
   "outputs": [],
   "source": [
    "%%HTML\n",
    "<style>\n",
    "th {\n",
    "    font-size: 30px\n",
    "}\n",
    "td {\n",
    "  font-size: 30px\n",
    "}\n",
    "</style>"
   ]
  },
  {
   "cell_type": "markdown",
   "metadata": {
    "hidden": false,
    "slideshow": {
     "slide_type": "slide"
    }
   },
   "source": [
    "## Standards-based grading in Calculus I\n",
    "\n",
    "### (An attempt at formative assessment in a class of 200+)\n",
    "\n",
    "### Sean Fitzpatrick\n",
    "### Department of Mathematics and Computer Science\n",
    "\n",
    "### Spark Teaching Symposium\n",
    "### University of Lethbridge; April, 2019\n"
   ]
  },
  {
   "cell_type": "markdown",
   "metadata": {
    "hidden": false,
    "slideshow": {
     "slide_type": "slide"
    }
   },
   "source": [
    "## Standards-based grading (SBG)\n",
    "\n",
    "- Assessment based on student mastery of a set of learning outcomes, or *standards*. \n",
    "- Mastery demonstrated through quizzes or in-class assignments.\n",
    "- Assessment is formative; students receive feedback on progress toward each standard.\n",
    "- Used in both K-12 and higher ed.\n",
    "\n",
    "In the USA, SBG in college mathematics championed by [Kate Owens](https://blogs.ams.org/matheducation/2015/11/20/a-beginners-guide-to-standards-based-grading/) and others. \n",
    "\n",
    "Typically, SBG practicioners are fluent in flipped classroom pedagogy, and they probably teach at small liberal arts colleges with class sizes in the 15-30 range."
   ]
  },
  {
   "cell_type": "markdown",
   "metadata": {
    "hidden": false,
    "slideshow": {
     "slide_type": "slide"
    }
   },
   "source": [
    "## Grading scheme\n",
    "\n",
    "I learned about SBG from [Steven Clontz](https://clontz.org/), (University of Southern Alabama). He uses the following scheme:\n",
    "\n",
    "- M (Meets standard): Solution is correct, makes proper use of notation, and is clearly written in complete sentences.\n",
    "\n",
    "- R (Revisions needed): Minor errors, or inappropriate use of notation, or explanation needs improvement.\n",
    "\n",
    "- I (Issues with solution): Substantial errors in conceptual or procedural understanding, or the work is poorly written.\n",
    "\n",
    "- F (Failed to meet standard): Student did not attempt this outcome, or made an attempt that demonstrates no understanding of material."
   ]
  },
  {
   "cell_type": "markdown",
   "metadata": {
    "hidden": false,
    "slideshow": {
     "slide_type": "slide"
    }
   },
   "source": [
    "### Grading, continued\n",
    "\n",
    "Students receive written feedback on their work, along with a \"score\". I assigned numerical scores: `M = 3, R = 2, I = 1, F = 0`\n",
    "\n",
    "- A student who gets a 3 (M) is done with that standard.\n",
    "- A student who gets a 2 (R) can submit revisions.\n",
    "- A student who gets a 1 (I) needs to do a *different* problem to reattempt the standard.\n",
    "\n",
    "_**Note**:_ students would receive feedback on *where* they made a mistake, and *what kind* of mistake they made, but we would not tell them exactly what was wrong, or how to correct it. It was up to the student to figure this out.\n"
   ]
  },
  {
   "cell_type": "markdown",
   "metadata": {
    "hidden": false,
    "slideshow": {
     "slide_type": "slide"
    }
   },
   "source": [
    "## Standards for Math 1560, Calculus I\n",
    "\n",
    "In my course outline, I provided students with a [list of standards](http://www.cs.uleth.ca/~fitzpat/syllabus/Fall2018/Math1560/section-standards.html) they were responsible for mastering by the end of the course.\n",
    "\n",
    "Some people use SBG as their sole means of assessment in their courses. I did not. Our grading scheme was as follows:\n",
    "\n",
    "\n",
    "| Assessment | Weight \n",
    "| :--------- | ------: \n",
    "| Tests (5)  |     35 \n",
    "| Online homework | 10 \n",
    "| Standards  | 20 \n",
    "| Final exam | 35 \n",
    "\n",
    "Students had 30 minutes at the end of each class to work on problems associated to the list of standards."
   ]
  },
  {
   "cell_type": "markdown",
   "metadata": {
    "hidden": false,
    "slideshow": {
     "slide_type": "slide"
    }
   },
   "source": [
    "## Challenges\n",
    "\n",
    "SBG might be great for small classes, but it doesn't scale well."
   ]
  },
  {
   "cell_type": "markdown",
   "metadata": {
    "hidden": false,
    "slideshow": {
     "slide_type": "fragment"
    }
   },
   "source": [
    "<img src=\"http://www.cs.uleth.ca/~fitzpat/grading.jpg\" alt=\"Collected work for Math 1560\" width=\"200\"/>\n",
    "\n",
    "This represents the work that was submitted (and graded) by students in Math 1560, for **one semester**."
   ]
  },
  {
   "cell_type": "markdown",
   "metadata": {
    "hidden": false,
    "slideshow": {
     "slide_type": "slide"
    }
   },
   "source": [
    "## Other challenges\n",
    "\n",
    "Surprisingly, the biggest one was convincing students that \"in-class exercises\" had to be done *in class*.\n",
    "\n",
    "- Students were given a list of problems each class, covering several different standards.\n",
    "- To keep on pace, a reasonable goal was to complete two problems in a class.\n",
    "- Many tried to copy down the list and take it for homework...\n",
    "- Since it was worth 20% of the overall grade I was probably too easy on them.\n",
    "- Unprepared students just copied instead of contributing.\n",
    "\n"
   ]
  },
  {
   "cell_type": "markdown",
   "metadata": {
    "hidden": false,
    "slideshow": {
     "slide_type": "slide"
    }
   },
   "source": [
    "## Student feedback\n",
    "\n",
    "> Having to do standards was not helpful, most people just copied answers from friends and didn't learn.\n",
    "\n",
    "> It's hard to do a question on a concept you learned 5 minutes prior.\n",
    "\n",
    "> Let us do the problems outside of class\n",
    "\n",
    "> Many variations on \"do more lecture/examples\"\n",
    "\n",
    "> Professor did not actually teach... \"In-class standards\" (were) inconvenient."
   ]
  },
  {
   "cell_type": "code",
   "execution_count": null,
   "metadata": {
    "hidden": false,
    "slideshow": {
     "slide_type": "skip"
    }
   },
   "outputs": [],
   "source": [
    "import numpy as np\n",
    "import pandas as pd\n",
    "from pandas import DataFrame\n",
    "import csv\n",
    "from ipywidgets import widgets\n",
    "import IPython"
   ]
  },
  {
   "cell_type": "markdown",
   "metadata": {
    "hidden": false,
    "slideshow": {
     "slide_type": "slide"
    }
   },
   "source": [
    "## Some results"
   ]
  },
  {
   "cell_type": "code",
   "execution_count": null,
   "metadata": {
    "hidden": false,
    "slideshow": {
     "slide_type": "fragment"
    }
   },
   "outputs": [],
   "source": [
    "data17 = pd.read_csv(\"1560data2017.csv\")\n",
    "data18 = pd.read_csv(\"1560data2018.csv\")"
   ]
  },
  {
   "cell_type": "code",
   "execution_count": null,
   "metadata": {
    "hidden": false,
    "slideshow": {
     "slide_type": "fragment"
    }
   },
   "outputs": [],
   "source": [
    "mean17 = np.mean(data17)\n",
    "print(round(mean17,1))"
   ]
  },
  {
   "cell_type": "code",
   "execution_count": null,
   "metadata": {
    "hidden": false,
    "slideshow": {
     "slide_type": "fragment"
    }
   },
   "outputs": [],
   "source": [
    "mean18 = np.mean(data18)\n",
    "print(round(mean18,1))"
   ]
  },
  {
   "cell_type": "code",
   "execution_count": null,
   "metadata": {
    "hidden": false,
    "slideshow": {
     "slide_type": "skip"
    }
   },
   "outputs": [],
   "source": [
    "t17 = round(data17['Tests'].mean(),1)\n",
    "a17 = data17['Assignments'].mean()\n",
    "tut17 = data17['Tutorials'].mean()\n",
    "c17 = round(0.5*(a17+tut17),1)\n",
    "e17 = round(data17['Exam'].mean(),1)\n",
    "o17 = round(data17['Overall'].mean(),1)"
   ]
  },
  {
   "cell_type": "code",
   "execution_count": null,
   "metadata": {
    "hidden": false,
    "slideshow": {
     "slide_type": "skip"
    }
   },
   "outputs": [],
   "source": [
    "t18 = round(data18['Tests'].mean(),1)\n",
    "c18 = round(data18['Standards'].mean(),1)\n",
    "e18 = round(data18['Exam'].mean(),1)\n",
    "o18 = round(data18['Overall'].mean(),1)"
   ]
  },
  {
   "cell_type": "markdown",
   "metadata": {
    "hidden": false,
    "slideshow": {
     "slide_type": "slide"
    }
   },
   "source": [
    "## Comparisons\n",
    "\n",
    "Below we plot averages for tests, coursework, final exam, and overall grades for 2017 and 2018."
   ]
  },
  {
   "cell_type": "code",
   "execution_count": null,
   "metadata": {
    "hidden": false,
    "slideshow": {
     "slide_type": "fragment"
    }
   },
   "outputs": [],
   "source": [
    "a = np.array([t17,c17,e17,o17])\n",
    "b = np.array([t18,c18,e18,o18])\n",
    "print(a)\n",
    "print(b)"
   ]
  },
  {
   "cell_type": "code",
   "execution_count": null,
   "metadata": {
    "hidden": false,
    "slideshow": {
     "slide_type": "skip"
    }
   },
   "outputs": [],
   "source": [
    "%matplotlib inline\n",
    "import numpy as np\n",
    "import matplotlib.pyplot as plt"
   ]
  },
  {
   "cell_type": "code",
   "execution_count": null,
   "metadata": {
    "hidden": true,
    "slideshow": {
     "slide_type": "fragment"
    }
   },
   "outputs": [],
   "source": [
    "# data to plot\n",
    "n_groups = 4\n",
    "means_17 = (t17, c17, e17, o17)\n",
    "means_18 = (t18, c18, e18, o18)\n",
    "\n",
    "# create plot\n",
    "fig, ax = plt.subplots()\n",
    "index = np.arange(n_groups)\n",
    "bar_width = 0.35\n",
    "opacity = 0.8\n",
    "\n",
    "ax.set_ylim([0, 100])\n",
    "rects1 = plt.bar(index, means_17, bar_width,\n",
    "alpha=opacity,\n",
    "color='b',\n",
    "label='2017')\n",
    " \n",
    "rects2 = plt.bar(index + bar_width, means_18, bar_width,\n",
    "alpha=opacity,\n",
    "color='g',\n",
    "label='2018')\n",
    " \n",
    "plt.xlabel('Grade items')\n",
    "plt.ylabel('Average')\n",
    "plt.title('Averages by year')\n",
    "plt.xticks(index + bar_width, ('Tests', 'Coursework', 'Final', 'Overall'))\n",
    "plt.legend();"
   ]
  },
  {
   "cell_type": "markdown",
   "metadata": {
    "hidden": false,
    "slideshow": {
     "slide_type": "slide"
    }
   },
   "source": [
    "## Letter grades\n",
    "\n",
    "Letter grade cutoffs:\n",
    "\n",
    "Grade | A+ | A | A- | B+ | B | B- | C+ | C | C- | D+ | D | F\n",
    "------|----|---|----|----|---|----|----|---|----|----|---|---\n",
    "2017  | 95 | 87| 84 | 82 |75 | 72 | 70 |65 | 61 | 57 |48 | 0\n",
    "2018  | 97 | 91| 88 | 85 |79 | 75 | 73 |67 | 64 | 61 |55 | 0\n"
   ]
  },
  {
   "cell_type": "code",
   "execution_count": null,
   "metadata": {
    "hidden": true,
    "slideshow": {
     "slide_type": "fragment"
    }
   },
   "outputs": [],
   "source": [
    "# data to plot\n",
    "n_groups = 6\n",
    "grades_17 = (25.8, 25.8, 18.6, 11.9, 7.6, 10.2)\n",
    "grades_18 = (34.4, 22, 15, 7.9,10.1,10.6)\n",
    "\n",
    "# create plot\n",
    "fig, ax = plt.subplots()\n",
    "index = np.arange(n_groups)\n",
    "bar_width = 0.35\n",
    "opacity = 0.8\n",
    "\n",
    "ax.set_ylim([0, 40])\n",
    "rects1 = plt.bar(index, grades_17, bar_width,\n",
    "alpha=opacity,\n",
    "color='b',\n",
    "label='2017')\n",
    " \n",
    "rects2 = plt.bar(index + bar_width, grades_18, bar_width,\n",
    "alpha=opacity,\n",
    "color='g',\n",
    "label='2018')\n",
    " \n",
    "plt.xlabel('Letter grades')\n",
    "plt.ylabel('Percentage')\n",
    "plt.title('Letter grade percentages')\n",
    "plt.xticks(index + bar_width, ('A','B','C','D','F','W'))\n",
    "plt.legend();"
   ]
  },
  {
   "cell_type": "markdown",
   "metadata": {
    "hidden": false,
    "slideshow": {
     "slide_type": "slide"
    }
   },
   "source": [
    "## Takeaways\n",
    "\n",
    "- Not quantified: student writing was better (my perception)\n",
    "- Effective for motivated students\n",
    "- A **lot** of work\n",
    "- No effect on drop/fail rate\n",
    "- Exam and test scores improved\n",
    "- No future funding for Crowdmark or grading support rules out trying it again"
   ]
  }
 ],
 "metadata": {
  "celltoolbar": "Slideshow",
  "kernelspec": {
   "display_name": "Python 3",
   "language": "python",
   "name": "python3"
  },
  "language_info": {
   "codemirror_mode": {
    "name": "ipython",
    "version": 3
   },
   "file_extension": ".py",
   "mimetype": "text/x-python",
   "name": "python",
   "nbconvert_exporter": "python",
   "pygments_lexer": "ipython3",
   "version": "3.6.8"
  },
  "livereveal": {
   "footer": "<h3>S. Fitzpatrick</h3>",
   "header": "<h2>Spark 2019</h2>",
   "theme": "sky"
  }
 },
 "nbformat": 4,
 "nbformat_minor": 2
}
