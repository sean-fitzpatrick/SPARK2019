{
 "cells": [
  {
   "cell_type": "markdown",
   "metadata": {
    "hidden": false,
    "slideshow": {
     "slide_type": "slide"
    }
   },
   "source": [
    "# Jupyter for Teaching\n",
    "\n",
    "### Sean Fitzpatrick, John Sheriff, Jana Archibald\n",
    "### Department of Mathematics and Computer Science\n",
    "\n",
    "### Spark Teaching Symposium\n",
    "### University of Lethbridge; April, 2019"
   ]
  },
  {
   "cell_type": "markdown",
   "metadata": {
    "hidden": false,
    "slideshow": {
     "slide_type": "slide"
    }
   },
   "source": [
    "## What is Jupyter?\n",
    "\n",
    "[Jupyter](http://jupyter.org) is a notebook-based coding environment that supports multiple languages, including _**Ju**lia_, _**Py**thon_, and _**R**_.\n",
    "\n",
    "- Notebook format allows for convenient sharing of data, and the methods used to analyze it.\n",
    "- Platform is completely open, with content shared on repositories like [GitHub](https://github.com).\n",
    "- Availability of *hub* environments allows for cloud-based deployment.\n",
    "- U of L hub available at [uleth.syzygy.ca](https://uleth.syzygy.ca), maintained by [PIMS](http://www.pims.math.ca)"
   ]
  },
  {
   "cell_type": "markdown",
   "metadata": {
    "hidden": false,
    "slideshow": {
     "slide_type": "slide"
    }
   },
   "source": [
    "## What goes in a Jupyter notebook?\n",
    "\n",
    "Almost anything you can think of!\n",
    "\n",
    "- Notebooks allow for a mixture of rich text and code.\n",
    "- Python and R are the most common choices of language (but use of \"magics\" allows one to temporarily switch to something else).\n",
    "- Text is written using Markdown (but HTML is also supported)\n",
    "- Notebooks provide a mix of explanatory text, data, analysis, and visualization."
   ]
  },
  {
   "cell_type": "markdown",
   "metadata": {
    "hidden": false,
    "slideshow": {
     "slide_type": "slide"
    }
   },
   "source": [
    "## Content options\n",
    "\n",
    "We can easily include mathematical notation using standard $\\LaTeX$ markup: consider the function\n",
    "\n",
    "$$f(x) = \\frac{\\sin(x^2)}{x^2+1}$$\n",
    "\n",
    "We can define the function in Python:"
   ]
  },
  {
   "cell_type": "code",
   "execution_count": 1,
   "metadata": {
    "hidden": false,
    "slideshow": {
     "slide_type": "skip"
    }
   },
   "outputs": [],
   "source": [
    "import sympy as sy\n",
    "x, y, z = sy.symbols('x y z')\n",
    "sy.init_printing(use_unicode=True)"
   ]
  },
  {
   "cell_type": "code",
   "execution_count": 2,
   "metadata": {
    "hidden": false,
    "slideshow": {
     "slide_type": "fragment"
    }
   },
   "outputs": [],
   "source": [
    "def f(x):\n",
    "    return sy.sin(x**2)/(x**2+1)"
   ]
  },
  {
   "cell_type": "code",
   "execution_count": 3,
   "metadata": {
    "hidden": false,
    "slideshow": {
     "slide_type": "fragment"
    }
   },
   "outputs": [
    {
     "data": {
      "image/png": "[encoded data removed]",
      "text/latex": [
       "$$\\frac{\\sin{\\left (x^{2} \\right )}}{x^{2} + 1}$$"
      ],
      "text/plain": [
       "   ⎛ 2⎞\n",
       "sin⎝x ⎠\n",
       "───────\n",
       "  2    \n",
       " x  + 1"
      ]
     },
     "execution_count": 3,
     "metadata": {},
     "output_type": "execute_result"
    }
   ],
   "source": [
    "f(x)"
   ]
  },
  {
   "cell_type": "markdown",
   "metadata": {
    "hidden": false,
    "slideshow": {
     "slide_type": "subslide"
    }
   },
   "source": [
    "We can do things like derivatives:"
   ]
  },
  {
   "cell_type": "code",
   "execution_count": 4,
   "metadata": {
    "hidden": false,
    "slideshow": {
     "slide_type": "fragment"
    }
   },
   "outputs": [
    {
     "data": {
      "image/png": "[encoded data removed]",
      "text/latex": [
       "$$\\frac{2 x \\cos{\\left (x^{2} \\right )}}{x^{2} + 1} - \\frac{2 x \\sin{\\left (x^{2} \\right )}}{\\left(x^{2} + 1\\right)^{2}}$$"
      ],
      "text/plain": [
       "       ⎛ 2⎞          ⎛ 2⎞\n",
       "2⋅x⋅cos⎝x ⎠   2⋅x⋅sin⎝x ⎠\n",
       "─────────── - ───────────\n",
       "    2                  2 \n",
       "   x  + 1      ⎛ 2    ⎞  \n",
       "               ⎝x  + 1⎠  "
      ]
     },
     "execution_count": 4,
     "metadata": {},
     "output_type": "execute_result"
    }
   ],
   "source": [
    "sy.diff(f(x),x)"
   ]
  },
  {
   "cell_type": "markdown",
   "metadata": {
    "hidden": false,
    "slideshow": {
     "slide_type": "fragment"
    }
   },
   "source": [
    "And plot graphs:"
   ]
  },
  {
   "cell_type": "code",
   "execution_count": 5,
   "metadata": {
    "hidden": false,
    "slideshow": {
     "slide_type": "fragment"
    }
   },
   "outputs": [
    {
     "data": {
      "image/png": "[encoded data removed]",
      "text/plain": [
       "<Figure size 432x288 with 1 Axes>"
      ]
     },
     "metadata": {
      "needs_background": "light"
     },
     "output_type": "display_data"
    }
   ],
   "source": [
    "graph = sy.plot(f(x), (x, -1, 1))"
   ]
  },
  {
   "cell_type": "markdown",
   "metadata": {
    "hidden": false,
    "slideshow": {
     "slide_type": "slide"
    }
   },
   "source": [
    "There are other plotting options:"
   ]
  },
  {
   "cell_type": "code",
   "execution_count": 6,
   "metadata": {
    "hidden": false,
    "slideshow": {
     "slide_type": "skip"
    }
   },
   "outputs": [],
   "source": [
    "%matplotlib inline\n",
    "from numpy import *\n",
    "from matplotlib.pyplot import *\n",
    "import matplotlib.animation as animation\n",
    "from IPython.display import HTML"
   ]
  },
  {
   "cell_type": "code",
   "execution_count": 7,
   "metadata": {
    "hidden": false,
    "slideshow": {
     "slide_type": "fragment"
    }
   },
   "outputs": [
    {
     "data": {
      "image/png": "[encoded data removed]",
      "text/plain": [
       "<Figure size 432x288 with 1 Axes>"
      ]
     },
     "metadata": {
      "needs_background": "light"
     },
     "output_type": "display_data"
    }
   ],
   "source": [
    "x = linspace(0,1)\n",
    "y = sin(2*pi*x)\n",
    "plot(x,y);\n",
    "title(\"One period of the function $\\sin(2 \\pi x)$\")\n",
    "xlabel(\"$x$ values\")\n",
    "ylabel(\"$\\sin(2 \\pi x)$ values\");"
   ]
  },
  {
   "cell_type": "markdown",
   "metadata": {
    "hidden": false,
    "slideshow": {
     "slide_type": "fragment"
    }
   },
   "source": [
    "We might also want to add some interactivity:"
   ]
  },
  {
   "cell_type": "code",
   "execution_count": 8,
   "metadata": {
    "hidden": false,
    "slideshow": {
     "slide_type": "subslide"
    }
   },
   "outputs": [],
   "source": [
    "from ipywidgets import interact\n",
    "def sinupdate(k=1):\n",
    "    plot (x,sin(x-k))"
   ]
  },
  {
   "cell_type": "code",
   "execution_count": 9,
   "metadata": {
    "hidden": false,
    "slideshow": {
     "slide_type": "fragment"
    }
   },
   "outputs": [
    {
     "data": {
      "application/vnd.jupyter.widget-view+json": {
       "model_id": "26329496adc1406cbc69ff29484dd744",
       "version_major": 2,
       "version_minor": 0
      },
      "text/plain": [
       "interactive(children=(IntSlider(value=1, description='k', max=10), Output()), _dom_classes=('widget-interact',…"
      ]
     },
     "metadata": {},
     "output_type": "display_data"
    }
   ],
   "source": [
    "x=linspace(0,2*pi)\n",
    "interact(sinupdate,k=(0,10));"
   ]
  },
  {
   "cell_type": "markdown",
   "metadata": {
    "hidden": false,
    "slideshow": {
     "slide_type": "slide"
    }
   },
   "source": [
    "## The Callysto project\n",
    "\n",
    "[Callysto](https://callysto.ca) is a CanCode-funded project to create Jupyter notebooks for K-12, run jointly by PIMS and [Cybera](http://www.cybera.ca/).\n",
    "\n",
    "University of Lethbridge contributed to the project: we had several undergraduate and graduate student developers working on creating content and code infrastructure for the project.\n",
    "\n",
    "Teachers in Western Canada will be using Callysto notebooks in their classrooms. The Callysto hub environment provided by Cybera means that schools don't need anything more than a Chromebook to use the materials.\n",
    "\n"
   ]
  },
  {
   "cell_type": "markdown",
   "metadata": {
    "hidden": false,
    "slideshow": {
     "slide_type": "slide"
    }
   },
   "source": [
    "## Jupyter at U of L\n",
    "\n",
    "John and Jana have both been using Jupyter to teach statistics.\n",
    "\n",
    "[Jupyter for statistics](Spark-statistics.ipynb)"
   ]
  }
 ],
 "metadata": {
  "celltoolbar": "Slideshow",
  "kernelspec": {
   "display_name": "Python 3",
   "language": "python",
   "name": "python3"
  },
  "language_info": {
   "codemirror_mode": {
    "name": "ipython",
    "version": 3
   },
   "file_extension": ".py",
   "mimetype": "text/x-python",
   "name": "python",
   "nbconvert_exporter": "python",
   "pygments_lexer": "ipython3",
   "version": "3.6.8"
  },
  "livereveal": {
   "backimage": "UL.jpg",
   "footer": "<h3>link goes here</h3>",
   "header": "<h3>Spark 2019</h3>",
   "theme": "serif"
  }
 },
 "nbformat": 4,
 "nbformat_minor": 2
}
