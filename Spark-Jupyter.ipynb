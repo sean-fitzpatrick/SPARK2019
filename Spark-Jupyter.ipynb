{
 "cells": [
  {
   "cell_type": "markdown",
   "metadata": {
    "slideshow": {
     "slide_type": "slide"
    }
   },
   "source": [
    "# Jupyter for Teaching\n",
    "\n",
    "### Sean Fitzpatrick, John Sheriff, Jana Archibald\n",
    "### Department of Mathematics and Computer Science\n",
    "\n",
    "### Spark Teaching Symposium\n",
    "### University of Lethbridge; April, 2019"
   ]
  },
  {
   "cell_type": "markdown",
   "metadata": {
    "slideshow": {
     "slide_type": "slide"
    }
   },
   "source": [
    "## What is Jupyter?\n",
    "\n",
    "[Jupyter](http://jupyter.org) is a notebook-based coding environment that supports multiple languages, including _**Ju**lia_, _**Py**thon_, and _**R**_.\n",
    "\n",
    "- Notebook format allows for convenient sharing of data, and the methods used to analyze it.\n",
    "- Platform is completely open, with content shared on repositories like [GitHub](https://github.com).\n",
    "- Availability of *hub* environments allows for cloud-based deployment.\n",
    "- U of L hub available at [uleth.syzygy.ca](https://uleth.syzygy.ca), maintained by [PIMS](http://www.pims.math.ca)"
   ]
  },
  {
   "cell_type": "markdown",
   "metadata": {
    "slideshow": {
     "slide_type": "slide"
    }
   },
   "source": [
    "## What goes in a Jupyter notebook?\n",
    "\n",
    "Almost anything you can think of!\n",
    "\n",
    "- Notebooks allow for a mixture of rich text and code.\n",
    "- Python and R are the most common choices of language (but use of \"magics\" allows one to temporarily switch to something else).\n",
    "- Text is written using Markdown (but HTML is also supported)\n",
    "- Notebooks provide a mix of explanatory text, data, analysis, and visualization."
   ]
  },
  {
   "cell_type": "markdown",
   "metadata": {
    "slideshow": {
     "slide_type": "slide"
    }
   },
   "source": [
    "## Content options\n",
    "\n",
    "We can easily include mathematical notation using standard $\\LaTeX$ markup: consider the function\n",
    "\n",
    "$$f(x) = \\frac{\\sin(x^2)}{x^2+1}$$\n",
    "\n",
    "We can analyze the function using Python:"
   ]
  },
  {
   "cell_type": "code",
   "execution_count": 1,
   "metadata": {
    "slideshow": {
     "slide_type": "skip"
    }
   },
   "outputs": [],
   "source": [
    "import sympy as sy\n",
    "x, y, z = sy.symbols('x y z')\n",
    "sy.init_printing(use_unicode=True)"
   ]
  },
  {
   "cell_type": "code",
   "execution_count": 2,
   "metadata": {
    "slideshow": {
     "slide_type": "fragment"
    }
   },
   "outputs": [],
   "source": [
    "def f(x):\n",
    "    return sy.sin(x**2)/(x**2+1)"
   ]
  },
  {
   "cell_type": "code",
   "execution_count": null,
   "metadata": {
    "slideshow": {
     "slide_type": "fragment"
    }
   },
   "outputs": [],
   "source": [
    "f(x)"
   ]
  },
  {
   "cell_type": "markdown",
   "metadata": {
    "slideshow": {
     "slide_type": "subslide"
    }
   },
   "source": [
    "We can do further analysis of our function. For example, we can compute its derivative:"
   ]
  },
  {
   "cell_type": "code",
   "execution_count": null,
   "metadata": {
    "slideshow": {
     "slide_type": "fragment"
    }
   },
   "outputs": [],
   "source": [
    "diff(f(x),x)"
   ]
  },
  {
   "cell_type": "markdown",
   "metadata": {
    "slideshow": {
     "slide_type": "fragment"
    }
   },
   "source": [
    "And plot its graph:"
   ]
  },
  {
   "cell_type": "code",
   "execution_count": null,
   "metadata": {
    "slideshow": {
     "slide_type": "fragment"
    }
   },
   "outputs": [],
   "source": [
    "graph = sy.plot(f(x), (x, -1, 1))"
   ]
  },
  {
   "cell_type": "markdown",
   "metadata": {
    "slideshow": {
     "slide_type": "slide"
    }
   },
   "source": [
    "There are other plotting options:"
   ]
  },
  {
   "cell_type": "code",
   "execution_count": null,
   "metadata": {
    "slideshow": {
     "slide_type": "skip"
    }
   },
   "outputs": [],
   "source": [
    "%matplotlib inline\n",
    "from numpy import *\n",
    "from matplotlib.pyplot import *\n",
    "import matplotlib.animation as animation\n",
    "from IPython.display import HTML"
   ]
  },
  {
   "cell_type": "code",
   "execution_count": null,
   "metadata": {
    "slideshow": {
     "slide_type": "fragment"
    }
   },
   "outputs": [],
   "source": [
    "x = linspace(0,1)\n",
    "y = sin(2*pi*x)\n",
    "plot(x,y);\n",
    "title(\"One period of the function $\\sin(2 \\pi x)$\")\n",
    "xlabel(\"$x$ values\")\n",
    "ylabel(\"$\\sin(2 \\pi x)$ values\");"
   ]
  },
  {
   "cell_type": "code",
   "execution_count": null,
   "metadata": {
    "slideshow": {
     "slide_type": "fragment"
    }
   },
   "outputs": [],
   "source": [
    "x=linspace(0,4*pi)\n",
    "interact(lambda k: plot(x,sin(x-k),k,0,'o'),k=(0,10));"
   ]
  },
  {
   "cell_type": "markdown",
   "metadata": {},
   "source": [
    "Callysto"
   ]
  }
 ],
 "metadata": {
  "celltoolbar": "Slideshow",
  "kernelspec": {
   "display_name": "Python 3",
   "language": "python",
   "name": "python3"
  },
  "language_info": {
   "codemirror_mode": {
    "name": "ipython",
    "version": 3
   },
   "file_extension": ".py",
   "mimetype": "text/x-python",
   "name": "python",
   "nbconvert_exporter": "python",
   "pygments_lexer": "ipython3",
   "version": "3.7.3"
  }
 },
 "nbformat": 4,
 "nbformat_minor": 2
}
