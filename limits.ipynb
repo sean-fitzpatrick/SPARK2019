{
 "cells": [
  {
   "cell_type": "markdown",
   "metadata": {
    "hidden": false,
    "slideshow": {
     "slide_type": "slide"
    }
   },
   "source": [
    "# Let's look at limits!"
   ]
  },
  {
   "cell_type": "code",
   "execution_count": 1,
   "metadata": {
    "hidden": false,
    "slideshow": {
     "slide_type": "skip"
    }
   },
   "outputs": [
    {
     "data": {
      "application/javascript": [
       "\n",
       "            require.config({\n",
       "                paths: {\n",
       "                    ggb: \"https://cdn.geogebra.org/apps/deployggb\"\n",
       "                }\n",
       "            });\n",
       "\n",
       "            require([\"ggb\"]);\n",
       "        "
      ],
      "text/plain": [
       "<IPython.core.display.Javascript object>"
      ]
     },
     "metadata": {},
     "output_type": "display_data"
    }
   ],
   "source": [
    "from geogebra.ggb import *\n",
    "\n",
    "ggb = GGB()\n",
    "\n",
    "import sympy as sy\n",
    "x, y, z = sy.symbols('x y z')\n",
    "sy.init_printing(use_unicode=True)"
   ]
  },
  {
   "cell_type": "markdown",
   "metadata": {
    "hidden": false,
    "slideshow": {
     "slide_type": "slide"
    }
   },
   "source": [
    "Here's the graph of a function. Notice how the $y$ values change as we drag $x$. At what points does the limit fail to exist?"
   ]
  },
  {
   "cell_type": "code",
   "execution_count": 2,
   "metadata": {
    "hidden": false,
    "slideshow": {
     "slide_type": "fragment"
    }
   },
   "outputs": [
    {
     "data": {
      "text/html": [
       "<div id=\"ggb_0_0e\"></div>"
      ],
      "text/plain": [
       "<IPython.core.display.HTML object>"
      ]
     },
     "metadata": {},
     "output_type": "display_data"
    },
    {
     "data": {
      "application/javascript": [
       "var ggb_0_0e = new GGBApplet({\"material_id\": \"pahq4ff7\"}, \"ggb_0_0e\", false); ggb_0_0e.inject(); "
      ],
      "text/plain": [
       "<IPython.core.display.Javascript object>"
      ]
     },
     "metadata": {},
     "output_type": "display_data"
    }
   ],
   "source": [
    "ggb.material('pahq4ff7').draw()"
   ]
  },
  {
   "cell_type": "markdown",
   "metadata": {
    "hidden": false,
    "slideshow": {
     "slide_type": "slide"
    }
   },
   "source": [
    "## An algebraic limit\n",
    "\n",
    "\n",
    "Consider the following example:\n",
    "\n",
    "$$\\lim_{x\\to 2}\\frac{x^2-5x+6}{x^2-4} = -\\frac14$$\n",
    "\n",
    "Why is this true? First, look at the graph:"
   ]
  },
  {
   "cell_type": "code",
   "execution_count": 3,
   "metadata": {
    "hidden": false,
    "slideshow": {
     "slide_type": "fragment"
    }
   },
   "outputs": [
    {
     "data": {
      "text/html": [
       "<div id=\"ggb_1_0e\"></div>"
      ],
      "text/plain": [
       "<IPython.core.display.HTML object>"
      ]
     },
     "metadata": {},
     "output_type": "display_data"
    },
    {
     "data": {
      "application/javascript": [
       "var ggb_1_0e = new GGBApplet({\"material_id\": \"rnajzfgq\"}, \"ggb_1_0e\", false); ggb_1_0e.inject(); "
      ],
      "text/plain": [
       "<IPython.core.display.Javascript object>"
      ]
     },
     "metadata": {},
     "output_type": "display_data"
    }
   ],
   "source": [
    "ggb.material('rnajzfgq').draw()"
   ]
  },
  {
   "cell_type": "markdown",
   "metadata": {
    "hidden": false,
    "slideshow": {
     "slide_type": "slide"
    }
   },
   "source": [
    "Next, we can ask the computer to do it."
   ]
  },
  {
   "cell_type": "code",
   "execution_count": 4,
   "metadata": {
    "hidden": false,
    "slideshow": {
     "slide_type": "fragment"
    }
   },
   "outputs": [],
   "source": [
    "def f(x):\n",
    "    return (x**2-5*x+6)/(x**2-4)"
   ]
  },
  {
   "cell_type": "code",
   "execution_count": 5,
   "metadata": {
    "hidden": false,
    "slideshow": {
     "slide_type": "fragment"
    }
   },
   "outputs": [
    {
     "data": {
      "image/png": "[encoded data removed]",
      "text/latex": [
       "$$\\frac{x^{2} - 5 x + 6}{x^{2} - 4}$$"
      ],
      "text/plain": [
       " 2          \n",
       "x  - 5⋅x + 6\n",
       "────────────\n",
       "    2       \n",
       "   x  - 4   "
      ]
     },
     "execution_count": 5,
     "metadata": {},
     "output_type": "execute_result"
    }
   ],
   "source": [
    "f(x)"
   ]
  },
  {
   "cell_type": "code",
   "execution_count": 6,
   "metadata": {
    "hidden": false,
    "slideshow": {
     "slide_type": "fragment"
    }
   },
   "outputs": [
    {
     "data": {
      "image/png": "[encoded data removed]",
      "text/latex": [
       "$$- \\frac{1}{4}$$"
      ],
      "text/plain": [
       "-1/4"
      ]
     },
     "execution_count": 6,
     "metadata": {},
     "output_type": "execute_result"
    }
   ],
   "source": [
    "sy.limit(f(x),x,2)"
   ]
  },
  {
   "cell_type": "markdown",
   "metadata": {
    "hidden": false,
    "slideshow": {
     "slide_type": "slide"
    }
   },
   "source": [
    "All signs seem to point to a limit of $-\\frac14$. But how do we see this for ourselves?\n",
    "\n",
    "First, notice that a limit is necessary here: $f(2)$ is undefined. If we try to put $x=2$, we get the nonsensical result of $\\frac00$. But this is a rational function: the top and bottom are both polynomials.\n",
    "\n",
    "One thing we know about a polynomial $p(x)$ is that if $p(a)=0$, then $(x-a)$ is a factor!\n",
    "\n",
    "So let's try to factor the top and bottom:\n",
    "\n",
    "$$f(x) = \\frac{x^2-5x+6}{x^2-4} = \\frac{(x-2)(x-3)}{(x-2)(x+2)}$$\n",
    "\n",
    "Now we can see it: there's a factor of $x-2$ on the top and bottom; this is what was causing those zeros.\n",
    "\n",
    "Next, you're probably tempted to cancel the $x-2$ factors and proceed. But it would be **false** to write $f(x)=\\dfrac{x-3}{x+2}$, because we know $f(2)$ is undefined, but the right hand side makes perfect sense when $x=2$. This is an equality that is valid for all values of $x$ except $x=2$.\n",
    "\n",
    "Here's where limits come to the rescue! Remember that in the expression $\\displaystyle \\lim_{x\\to 2}f(x)$, we are considering values of $x$ that are close to 2, *but not equal to 2*. Since we don't let $x=2$, we're allowed to cancel, and after that, the properties of limits take over:\n",
    "\n",
    "$$\\lim_{x\\to 2}f(x) = \\lim_{x\\to 2}\\frac{x^2-5x+6}{x^2-4} = \\lim_{x\\to 2}\\frac{x-3}{x+2} = \\frac{\\lim_{x\\to 2}(x-3)}{\\lim_{x\\to 2}(x+2)} = \\frac{2-3}{2+2} = -\\frac14,$$\n",
    "\n",
    "just as we expected."
   ]
  },
  {
   "cell_type": "markdown",
   "metadata": {
    "hidden": false,
    "slideshow": {
     "slide_type": "slide"
    }
   },
   "source": [
    "## A trigonometric limit\n",
    "\n",
    "Next, we're going to explore the limit\n",
    "\n",
    "$$\\lim_{x\\to 0}\\dfrac{\\sin(x)}{x}.$$\n",
    "\n",
    "Like the last example, trying to evaluate directly results in $\\frac00$.\n",
    "\n",
    "Unlike the last example, we cannot simply factor an $x$ out from the top to cancel it.\n",
    "\n",
    "To get an idea of what we're dealing with, we'll first explore numerically and graphically, using some borrowed code. (Thanks, Vincent)\n",
    "\n",
    "Let's start by defining our function."
   ]
  },
  {
   "cell_type": "code",
   "execution_count": 7,
   "metadata": {
    "hidden": false,
    "slideshow": {
     "slide_type": "slide"
    }
   },
   "outputs": [],
   "source": [
    "def g(x):\n",
    "    return sy.sin(x)/x"
   ]
  },
  {
   "cell_type": "markdown",
   "metadata": {
    "hidden": false,
    "slideshow": {
     "slide_type": "fragment"
    }
   },
   "source": [
    "Let's confirm that this is what we want by asking Jupyter to display the function."
   ]
  },
  {
   "cell_type": "code",
   "execution_count": 8,
   "metadata": {
    "hidden": false,
    "scrolled": true,
    "slideshow": {
     "slide_type": "fragment"
    }
   },
   "outputs": [
    {
     "data": {
      "image/png": "[encoded data removed]",
      "text/latex": [
       "$$\\frac{1}{x} \\sin{\\left (x \\right )}$$"
      ],
      "text/plain": [
       "sin(x)\n",
       "──────\n",
       "  x   "
      ]
     },
     "execution_count": 8,
     "metadata": {},
     "output_type": "execute_result"
    }
   ],
   "source": [
    "g(x)"
   ]
  },
  {
   "cell_type": "markdown",
   "metadata": {
    "hidden": false,
    "slideshow": {
     "slide_type": "slide"
    }
   },
   "source": [
    "Next, let's enter some test values for our function near $x=0$, and add some code to produce the corresponding $y$ values."
   ]
  },
  {
   "cell_type": "code",
   "execution_count": 9,
   "metadata": {
    "hidden": false,
    "slideshow": {
     "slide_type": "fragment"
    }
   },
   "outputs": [
    {
     "name": "stdout",
     "output_type": "stream",
     "text": [
      "values for f(x) = sin(x)/x\n",
      "x        | Results\n",
      "----------------------------\n",
      "0.5      | 0.958851077208406\n",
      "-0.5     | 0.958851077208406\n",
      "0.1      | 0.998334166468282\n",
      "-0.1     | 0.998334166468282\n",
      "0.01     | 0.999983333416666\n",
      "-0.01    | 0.999983333416666\n",
      "0.001    | 0.999999833333342\n",
      "-0.001   | 0.999999833333342\n"
     ]
    }
   ],
   "source": [
    "Xvalues = [0.5,-0.5,0.1,-0.1,0.01,-0.01,0.001,-0.001]\n",
    "resultArray = []\n",
    "\n",
    "for values in Xvalues:\n",
    "    resultArray.append([str(values), g(values)])\n",
    "    \n",
    "print(\"values for f(x) = sin(x)/x\")\n",
    "print(\"x\", \" \"*6, \"| Results\")\n",
    "print(\"-\"*28)\n",
    "for result in resultArray:\n",
    "    print (result[0], \" \"*(7 - len(result[0])), \"|\", result[1])"
   ]
  },
  {
   "cell_type": "markdown",
   "metadata": {
    "hidden": false,
    "slideshow": {
     "slide_type": "slide"
    }
   },
   "source": [
    "Next, let's look at the graph."
   ]
  },
  {
   "cell_type": "code",
   "execution_count": 10,
   "metadata": {
    "hidden": false,
    "slideshow": {
     "slide_type": "fragment"
    }
   },
   "outputs": [
    {
     "data": {
      "image/png": "[encoded data removed]",
      "text/plain": [
       "<Figure size 432x288 with 1 Axes>"
      ]
     },
     "metadata": {
      "needs_background": "light"
     },
     "output_type": "display_data"
    }
   ],
   "source": [
    "graph = sy.plot(g(x), (x, -0.5, 0.5))"
   ]
  },
  {
   "cell_type": "markdown",
   "metadata": {
    "hidden": false,
    "slideshow": {
     "slide_type": "slide"
    }
   },
   "source": [
    "Finally, we can use Python to simply compute the limit:"
   ]
  },
  {
   "cell_type": "code",
   "execution_count": 11,
   "metadata": {
    "hidden": false,
    "slideshow": {
     "slide_type": "fragment"
    }
   },
   "outputs": [
    {
     "data": {
      "image/png": "[encoded data removed]",
      "text/latex": [
       "$$1$$"
      ],
      "text/plain": [
       "1"
      ]
     },
     "execution_count": 11,
     "metadata": {},
     "output_type": "execute_result"
    }
   ],
   "source": [
    "sy.limit(g(x),x,0)"
   ]
  },
  {
   "cell_type": "markdown",
   "metadata": {
    "hidden": false,
    "slideshow": {
     "slide_type": "slide"
    }
   },
   "source": [
    "So, how do we see this is true? Consider the following diagram. The length of the first vertical line (in blue), is $\\sin(x)$. The length of the circular arc (in red), is $x$, and the length of the second vertical line (in green) is $\\tan(x)$."
   ]
  },
  {
   "cell_type": "code",
   "execution_count": 12,
   "metadata": {
    "hidden": false,
    "slideshow": {
     "slide_type": "fragment"
    }
   },
   "outputs": [
    {
     "data": {
      "text/html": [
       "<div id=\"ggb_2_0e\"></div>"
      ],
      "text/plain": [
       "<IPython.core.display.HTML object>"
      ]
     },
     "metadata": {},
     "output_type": "display_data"
    },
    {
     "data": {
      "application/javascript": [
       "var ggb_2_0e = new GGBApplet({\"material_id\": \"vrfvagcx\"}, \"ggb_2_0e\", false); ggb_2_0e.inject(); "
      ],
      "text/plain": [
       "<IPython.core.display.Javascript object>"
      ]
     },
     "metadata": {},
     "output_type": "display_data"
    }
   ],
   "source": [
    "ggb.material('vrfvagcx').draw()"
   ]
  },
  {
   "cell_type": "markdown",
   "metadata": {
    "hidden": false,
    "slideshow": {
     "slide_type": "slide"
    }
   },
   "source": [
    "We see that for all values of $x> 0$, we have\n",
    "\n",
    "$$\\sin(x)\\leq x\\leq \\tan(x).$$\n",
    "\n",
    "Taking reciprocals, and noting $\\tan(x) = \\dfrac{\\sin(x)}{\\cos(x)}$, we get\n",
    "\n",
    "$$\\frac{\\cos(x)}{\\sin(x)} \\leq \\frac1x\\leq \\frac{1}{\\sin(x)}$$.\n",
    "\n",
    "Finally, we multiply the whole thing by $\\sin(x)$ (which is positive here), to get\n",
    "\n",
    "$$\\cos(x) \\leq \\frac{\\sin(x)}{x}\\leq 1,$$\n",
    "\n",
    "and this is true for any $x>0$. (With a bit more work, the same inequality holds for $x<0$.)\n",
    "\n",
    "Now we can ask: what happens when we let $x\\to 1$?"
   ]
  },
  {
   "cell_type": "code",
   "execution_count": 13,
   "metadata": {
    "hidden": false,
    "slideshow": {
     "slide_type": "slide"
    }
   },
   "outputs": [
    {
     "data": {
      "text/html": [
       "<div id=\"ggb_3_0e\"></div>"
      ],
      "text/plain": [
       "<IPython.core.display.HTML object>"
      ]
     },
     "metadata": {},
     "output_type": "display_data"
    },
    {
     "data": {
      "application/javascript": [
       "var ggb_3_0e = new GGBApplet({\"material_id\": \"cucrrvqg\"}, \"ggb_3_0e\", false); ggb_3_0e.inject(); "
      ],
      "text/plain": [
       "<IPython.core.display.Javascript object>"
      ]
     },
     "metadata": {},
     "output_type": "display_data"
    }
   ],
   "source": [
    "ggb.material('cucrrvqg').draw()"
   ]
  },
  {
   "cell_type": "markdown",
   "metadata": {
    "hidden": false,
    "slideshow": {
     "slide_type": "slide"
    }
   },
   "source": [
    "Here are some exercises:\n",
    "- Standard 1.1: Sketch a graph of a function $f$ with the following features:\n",
    "    * $\\displaystyle \\lim_{x\\to 1}f(x)$ exists, but $f(1)$ is undefined.\n",
    "    * $f(2)$ is defined, but $\\displaystyle \\lim_{x\\to 2}f(x)$ does not exist.\n",
    "- Standard 1.2: Let $f(x)=x^2-2x+4$. Using only the limit properties (Theorem 1.3.1 in the text) show that $\\displaystyle \\lim_{x\\to a}f(x) = f(a)$ for any real number $a$.\n",
    "- Standard 1.3: Evaluate both of the following limits. (You can ask for hints.)\n",
    "$$\\lim_{x\\to 1}\\frac{x^2-2x+1}{x^3-x} \\quad \\text{ and } \\quad \\lim_{x\\to 4}\\frac{\\sqrt{x}-2}{x^2-5x+4}$$\n",
    "- Standard 1.4: Evaluate both of the following limits:$$\\lim_{x\\to 0}\\frac{\\tan(5x)}{x} \\quad \\text{ and } \\quad \\lim_{x\\to 0} \\frac{1-\\cos(x)}{x^2}$$\n",
    "- Standard 1,5: Given $f(x) = \\begin{cases} \\ln(x-1) & \\text{ if } x\\geq 2\\\\1-x^2 & \\text{ if } x<2\\end{cases}$, evaluate\n",
    "$\\displaystyle \\lim_{x\\to 2^-}f(x)$, $\\displaystyle \\lim_{x\\to 2^+}f(x)$, $\\displaystyle \\lim_{x\\to 2}f(x)$, and $f(2)$."
   ]
  }
 ],
 "metadata": {
  "kernelspec": {
   "display_name": "Python 3",
   "language": "python",
   "name": "python3"
  },
  "language_info": {
   "codemirror_mode": {
    "name": "ipython",
    "version": 3
   },
   "file_extension": ".py",
   "mimetype": "text/x-python",
   "name": "python",
   "nbconvert_exporter": "python",
   "pygments_lexer": "ipython3",
   "version": "3.7.3"
  }
 },
 "nbformat": 4,
 "nbformat_minor": 2
}
